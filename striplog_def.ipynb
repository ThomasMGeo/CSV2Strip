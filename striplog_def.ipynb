{
 "cells": [
  {
   "cell_type": "code",
   "execution_count": 113,
   "metadata": {},
   "outputs": [
    {
     "name": "stdout",
     "output_type": "stream",
     "text": [
      "\u001b[H\u001b[2J"
     ]
    }
   ],
   "source": [
    "# Script to define facies and plot, via a CSV file"
   ]
  },
  {
   "cell_type": "code",
   "execution_count": 114,
   "metadata": {},
   "outputs": [
    {
     "data": {
      "text/plain": [
       "'0.7.3'"
      ]
     },
     "execution_count": 114,
     "metadata": {},
     "output_type": "execute_result"
    }
   ],
   "source": [
    "import matplotlib.pyplot as plt\n",
    "import numpy as np\n",
    "\n",
    "import striplog\n",
    "striplog.__version__"
   ]
  },
  {
   "cell_type": "code",
   "execution_count": 115,
   "metadata": {},
   "outputs": [],
   "source": [
    "from striplog import Lexicon, Component, Legend, Interval, Striplog"
   ]
  },
  {
   "cell_type": "code",
   "execution_count": 138,
   "metadata": {},
   "outputs": [],
   "source": [
    "# defining the sand variable\n",
    "\n",
    "sandstone = {\n",
    "    'lithology':'sandstone',\n",
    "    'colour':'yellow',\n",
    "    'hatch':'.',\n",
    "    'width':'3',\n",
    "    'train':'y'\n",
    "}\n",
    "\n",
    "# mixed / interbedded\n",
    "interbedded = {\n",
    "    'lithology':'interbeded',\n",
    "    'colour':'darkseagreen',\n",
    "    'hatch':'--',\n",
    "    'width':'2',\n",
    "    'train':'y'\n",
    "}\n",
    "\n",
    "# shale\n",
    "\n",
    "shale = {\n",
    "    'lithology':'shale',\n",
    "    'colour':'darkgray',\n",
    "    'hatch':'-',\n",
    "    'width':'1',\n",
    "    'train':'y'\n",
    "}\n",
    "\n",
    "# bad sand\n",
    "badsand = {\n",
    "    'lithology':'sandstone',\n",
    "    'colour':'yellow',\n",
    "    'hatch':'.',\n",
    "    'width':'3',\n",
    "    'train':'n'\n",
    "}\n",
    "\n",
    "# no core in image \n",
    "\n",
    "nocore = {\n",
    "    'lithology':'none',\n",
    "    'colour':'white',\n",
    "    'hatch':'/',\n",
    "    'width':'5',\n",
    "    'train':'n'\n",
    "    \n",
    "}\n",
    "\n",
    "# \n",
    "\n",
    "turbidite = {\n",
    "    'lithology':'none',\n",
    "    'hatch':'xxx',\n",
    "    'width':'3',\n",
    "    'train':'y'\n",
    "}\n",
    "\n",
    "\n",
    "# In the CSV file, I just want to \n",
    "facies = {\n",
    "    's':sandstone,\n",
    "    'i':interbedded,\n",
    "    'sh':shale,\n",
    "    'x':nocore,\n",
    "    't':turbidite\n",
    " \n",
    "}"
   ]
  },
  {
   "cell_type": "code",
   "execution_count": 139,
   "metadata": {},
   "outputs": [
    {
     "data": {
      "text/html": [
       "<table><tr><td><strong>lithology</strong></td><td>sandstone</td></tr><tr><td><strong>colour</strong></td><td>yellow</td></tr><tr><td><strong>hatch</strong></td><td>.</td></tr><tr><td><strong>width</strong></td><td>3.0</td></tr><tr><td><strong>train</strong></td><td>y</td></tr></table>"
      ],
      "text/plain": [
       "Component({'lithology': 'sandstone', 'colour': 'yellow', 'hatch': '.', 'width': 3.0, 'train': 'y'})"
      ]
     },
     "execution_count": 139,
     "metadata": {},
     "output_type": "execute_result"
    }
   ],
   "source": [
    "Component(sandstone)\n"
   ]
  },
  {
   "cell_type": "code",
   "execution_count": 140,
   "metadata": {},
   "outputs": [
    {
     "data": {
      "text/plain": [
       "[Component({'lithology': 'interbeded', 'colour': 'darkseagreen', 'hatch': '--', 'width': 2.0, 'train': 'y'}),\n",
       " Component({'lithology': 'sandstone', 'colour': 'yellow', 'hatch': '.', 'width': 3.0, 'train': 'y'}),\n",
       " Component({'lithology': 'shale', 'colour': 'darkgray', 'hatch': '-', 'width': 1.0, 'train': 'y'}),\n",
       " Component({'lithology': 'none', 'colour': 'white', 'hatch': '/', 'width': 5.0, 'train': 'n'}),\n",
       " Component({'lithology': 'none', 'hatch': 'xxx', 'width': 3.0, 'train': 'y'})]"
      ]
     },
     "execution_count": 140,
     "metadata": {},
     "output_type": "execute_result"
    }
   ],
   "source": [
    "def get_component(letter):\n",
    "    return Component(facies[letter])\n",
    "\n",
    "[get_component(letter) for letter in ['i', 's', 'sh','x','t']]"
   ]
  },
  {
   "cell_type": "code",
   "execution_count": 141,
   "metadata": {},
   "outputs": [
    {
     "data": {
      "text/plain": [
       "'yellow'"
      ]
     },
     "execution_count": 141,
     "metadata": {},
     "output_type": "execute_result"
    }
   ],
   "source": [
    "# color of the s (sandstone facies)\n",
    "s['colour']"
   ]
  },
  {
   "cell_type": "code",
   "execution_count": 142,
   "metadata": {},
   "outputs": [
    {
     "data": {
      "text/plain": [
       "'Yellow, sandstone, 3.0'"
      ]
     },
     "execution_count": 142,
     "metadata": {},
     "output_type": "execute_result"
    }
   ],
   "source": []
  },
  {
   "cell_type": "code",
   "execution_count": 144,
   "metadata": {},
   "outputs": [],
   "source": [
    "log = Striplog.from_csv('test.csv', lexicon=Lexicon.default())\n"
   ]
  },
  {
   "cell_type": "code",
   "execution_count": 147,
   "metadata": {},
   "outputs": [
    {
     "data": {
      "image/png": "[encoded data removed]",
      "text/plain": [
       "<Figure size 108x1080 with 1 Axes>"
      ]
     },
     "metadata": {},
     "output_type": "display_data"
    }
   ],
   "source": [
    "log.plot()"
   ]
  },
  {
   "cell_type": "code",
   "execution_count": null,
   "metadata": {},
   "outputs": [],
   "source": []
  }
 ],
 "metadata": {
  "kernelspec": {
   "display_name": "Python [conda env:wells]",
   "language": "python",
   "name": "conda-env-wells-py"
  },
  "language_info": {
   "codemirror_mode": {
    "name": "ipython",
    "version": 3
   },
   "file_extension": ".py",
   "mimetype": "text/x-python",
   "name": "python",
   "nbconvert_exporter": "python",
   "pygments_lexer": "ipython3",
   "version": "3.6.5"
  }
 },
 "nbformat": 4,
 "nbformat_minor": 2
}
