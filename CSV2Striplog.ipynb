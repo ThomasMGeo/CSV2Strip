{
 "cells": [
  {
   "cell_type": "markdown",
   "metadata": {},
   "source": [
    "# Striplog from CSV"
   ]
  },
  {
   "cell_type": "code",
   "execution_count": 1,
   "metadata": {},
   "outputs": [
    {
     "data": {
      "text/plain": [
       "'0.7.3'"
      ]
     },
     "execution_count": 1,
     "metadata": {},
     "output_type": "execute_result"
    }
   ],
   "source": [
    "%matplotlib inline\n",
    "import matplotlib.pyplot as plt\n",
    "import numpy as np\n",
    "\n",
    "import striplog\n",
    "striplog.__version__"
   ]
  },
  {
   "cell_type": "code",
   "execution_count": 2,
   "metadata": {},
   "outputs": [],
   "source": [
    "from striplog import Lexicon, Decor, Component, Legend, Interval, Striplog"
   ]
  },
  {
   "cell_type": "markdown",
   "metadata": {},
   "source": [
    "## Make legend\n",
    "\n",
    "Most of the stuff in the dicts you made were about **display** — so they are going to make `Decor` objects. A collection of `Decor`s makes a `Legend`. A `Legend` determines how a striplog is displayed.\n",
    "\n",
    "First I'll make the components, since those are easy. I'll move `'train'` into there too, since it is to do with the rocks, not the display. If it seems weird having `'train'` in the `Component` (which is really supposed to be about direct descriptions of the rock, but the idea is that it's always the same for all specimens of that rock so it does fit here) then you could put it in `data` instead. "
   ]
  },
  {
   "cell_type": "code",
   "execution_count": 3,
   "metadata": {},
   "outputs": [],
   "source": [
    "# define your abbreviations here, this is what the CSV will read in\n",
    "\n",
    "facies = {\n",
    "    's': Component({'lithology': 'sandstone', 'train':'y'}),\n",
    "    'os': Component({'lithology': 'oilstained', 'train':'y'}),\n",
    "    'is': Component({'lithology': 'clay_prone_sandstone', 'train':'y'}),\n",
    "    'ih': Component({'lithology': 'sandy_mudstone', 'train':'y'}),\n",
    "    'sh': Component({'lithology': 'mudstone', 'train':'y'}),\n",
    "    'bs': Component({'lithology': 'sandstone', 'train': 'n'}),\n",
    "    't': Component({'lithology': 'turbidite', 'train':'y'}),\n",
    "    'nc': Component({'lithology': 'none', 'train':'n'}),\n",
    "}"
   ]
  },
  {
   "cell_type": "code",
   "execution_count": 4,
   "metadata": {},
   "outputs": [
    {
     "data": {
      "text/plain": [
       "{'s': Component({'lithology': 'sandstone', 'train': 'y'}),\n",
       " 'os': Component({'lithology': 'oilstained', 'train': 'y'}),\n",
       " 'is': Component({'lithology': 'clay_prone_sandstone', 'train': 'y'}),\n",
       " 'ih': Component({'lithology': 'sandy_mudstone', 'train': 'y'}),\n",
       " 'sh': Component({'lithology': 'mudstone', 'train': 'y'}),\n",
       " 'bs': Component({'lithology': 'sandstone', 'train': 'n'}),\n",
       " 't': Component({'lithology': 'turbidite', 'train': 'y'}),\n",
       " 'nc': Component({'lithology': 'none', 'train': 'n'})}"
      ]
     },
     "execution_count": 4,
     "metadata": {},
     "output_type": "execute_result"
    }
   ],
   "source": [
    "facies"
   ]
  },
  {
   "cell_type": "code",
   "execution_count": 7,
   "metadata": {},
   "outputs": [],
   "source": [
    "# pick how your facies will look in the log, see striplog for specfics\n",
    "\n",
    "sandstone = Decor({\n",
    "    'component': facies['s'],\n",
    "    'colour': 'yellow',\n",
    "    'hatch': '.',\n",
    "    'width': '4',\n",
    "})\n",
    "\n",
    "oilstained = Decor({\n",
    "    'component': facies['os'],\n",
    "    'colour': 'brown',\n",
    "    'hatch': '/',\n",
    "    'width': '3',\n",
    "})\n",
    "\n",
    "clay_prone_sandstone = Decor({\n",
    "    'component': facies['is'],\n",
    "    'colour': 'greenyellow',\n",
    "    'hatch': '--',\n",
    "    'width': '3',\n",
    "})\n",
    "\n",
    "\n",
    "sandy_mudstone = Decor({\n",
    "    'component': facies['ih'],\n",
    "    'colour': 'darkseagreen',\n",
    "    'hatch': '---',\n",
    "    'width': '2',\n",
    "})\n",
    "\n",
    "mudstone = Decor({\n",
    "    'component': facies['sh'],\n",
    "    'colour': 'darkgray',\n",
    "    'hatch': '-',\n",
    "    'width': '1',\n",
    "})\n",
    "\n",
    "# Not sure about the best way to do this, probably better\n",
    "# just to omit those intervals completely.\n",
    "\n",
    "badsand = Decor({\n",
    "    'component': facies['bs'],\n",
    "    'colour': 'orange',\n",
    "    'hatch': '.',\n",
    "    'width': '4',\n",
    "})\n",
    "\n",
    "nocore = Decor({\n",
    "    'component': facies['nc'],\n",
    "    'colour': 'white',\n",
    "    'hatch': '/',\n",
    "    'width': '5',\n",
    "})\n",
    "\n",
    "turbidite = Decor({\n",
    "    'component': facies['t'],\n",
    "    'colour': 'green',\n",
    "    'hatch': 'xxx',\n",
    "    'width': '3',\n",
    "})"
   ]
  },
  {
   "cell_type": "code",
   "execution_count": 8,
   "metadata": {},
   "outputs": [],
   "source": [
    "legend = Legend([sandstone, oilstained, badsand, clay_prone_sandstone, sandy_mudstone, mudstone, turbidite, nocore])"
   ]
  },
  {
   "cell_type": "code",
   "execution_count": 9,
   "metadata": {},
   "outputs": [
    {
     "data": {
      "text/html": [
       "<table><tr><th>width</th><th>hatch</th><th>colour</th><th>component</th></tr><tr><td style=\"color:black; background-color:white\">4.0</td><td style=\"color:black; background-color:white\">.</td><td style=\"color:#000000; background-color:#ffff00\">#ffff00</td><td style=\"color:black; background-color:white\"><table><tr><td><strong>lithology</strong></td><td>sandstone</td></tr><tr><td><strong>train</strong></td><td>y</td></tr></table></td></tr><tr><td style=\"color:black; background-color:white\">3.0</td><td style=\"color:black; background-color:white\">/</td><td style=\"color:#ffffff; background-color:#a52a2a\">#a52a2a</td><td style=\"color:black; background-color:white\"><table><tr><td><strong>lithology</strong></td><td>oilstained</td></tr><tr><td><strong>train</strong></td><td>y</td></tr></table></td></tr><tr><td style=\"color:black; background-color:white\">4.0</td><td style=\"color:black; background-color:white\">.</td><td style=\"color:#000000; background-color:#ffa500\">#ffa500</td><td style=\"color:black; background-color:white\"><table><tr><td><strong>lithology</strong></td><td>sandstone</td></tr><tr><td><strong>train</strong></td><td>n</td></tr></table></td></tr><tr><td style=\"color:black; background-color:white\">3.0</td><td style=\"color:black; background-color:white\">--</td><td style=\"color:#000000; background-color:#adff2f\">#adff2f</td><td style=\"color:black; background-color:white\"><table><tr><td><strong>lithology</strong></td><td>clay_prone_sandstone</td></tr><tr><td><strong>train</strong></td><td>y</td></tr></table></td></tr><tr><td style=\"color:black; background-color:white\">2.0</td><td style=\"color:black; background-color:white\">---</td><td style=\"color:#000000; background-color:#8fbc8f\">#8fbc8f</td><td style=\"color:black; background-color:white\"><table><tr><td><strong>lithology</strong></td><td>sandy_mudstone</td></tr><tr><td><strong>train</strong></td><td>y</td></tr></table></td></tr><tr><td style=\"color:black; background-color:white\">1.0</td><td style=\"color:black; background-color:white\">-</td><td style=\"color:#000000; background-color:#a9a9a9\">#a9a9a9</td><td style=\"color:black; background-color:white\"><table><tr><td><strong>lithology</strong></td><td>mudstone</td></tr><tr><td><strong>train</strong></td><td>y</td></tr></table></td></tr><tr><td style=\"color:black; background-color:white\">3.0</td><td style=\"color:black; background-color:white\">xxx</td><td style=\"color:#ffffff; background-color:#008000\">#008000</td><td style=\"color:black; background-color:white\"><table><tr><td><strong>lithology</strong></td><td>turbidite</td></tr><tr><td><strong>train</strong></td><td>y</td></tr></table></td></tr><tr><td style=\"color:black; background-color:white\">5.0</td><td style=\"color:black; background-color:white\">/</td><td style=\"color:#000000; background-color:#ffffff\">#ffffff</td><td style=\"color:black; background-color:white\"><table><tr><td><strong>lithology</strong></td><td>none</td></tr><tr><td><strong>train</strong></td><td>n</td></tr></table></td></tr></table>"
      ],
      "text/plain": [
       "Legend(Decor({'component': Component({'lithology': 'sandstone', 'train': 'y'}), '_colour': '#ffff00', 'hatch': '.', 'width': 4.0})\n",
       "Decor({'component': Component({'lithology': 'oilstained', 'train': 'y'}), '_colour': '#a52a2a', 'hatch': '/', 'width': 3.0})\n",
       "Decor({'component': Component({'lithology': 'sandstone', 'train': 'n'}), '_colour': '#ffa500', 'hatch': '.', 'width': 4.0})\n",
       "Decor({'component': Component({'lithology': 'clay_prone_sandstone', 'train': 'y'}), '_colour': '#adff2f', 'hatch': '--', 'width': 3.0})\n",
       "Decor({'component': Component({'lithology': 'sandy_mudstone', 'train': 'y'}), '_colour': '#8fbc8f', 'hatch': '---', 'width': 2.0})\n",
       "Decor({'component': Component({'lithology': 'mudstone', 'train': 'y'}), '_colour': '#a9a9a9', 'hatch': '-', 'width': 1.0})\n",
       "Decor({'component': Component({'lithology': 'turbidite', 'train': 'y'}), '_colour': '#008000', 'hatch': 'xxx', 'width': 3.0})\n",
       "Decor({'component': Component({'lithology': 'none', 'train': 'n'}), '_colour': '#ffffff', 'hatch': '/', 'width': 5.0}))"
      ]
     },
     "execution_count": 9,
     "metadata": {},
     "output_type": "execute_result"
    }
   ],
   "source": [
    "legend"
   ]
  },
  {
   "cell_type": "markdown",
   "metadata": {},
   "source": [
    "## Read CSV into striplog"
   ]
  },
  {
   "cell_type": "code",
   "execution_count": null,
   "metadata": {},
   "outputs": [],
   "source": []
  },
  {
   "cell_type": "code",
   "execution_count": 17,
   "metadata": {},
   "outputs": [],
   "source": [
    "strip = Striplog.from_csv('test2.csv') # literally reading in the CSV file"
   ]
  },
  {
   "cell_type": "code",
   "execution_count": 18,
   "metadata": {},
   "outputs": [
    {
     "data": {
      "text/html": [
       "<table><tr><td style=\"width:2em; background-color:#DDDDDD\" rowspan=\"6\"></td><td><strong>top</strong></td><td>0.0</td></tr><tr><td><strong>primary</strong></td><td>None</td></tr><tr><td><strong>summary</strong></td><td>None</td></tr><tr><td><strong>description</strong></td><td></td></tr><tr><td><strong>data</strong></td><td><table><tr><td><strong>lithology</strong></td><td>s</td></tr></table></td></tr><tr><td><strong>base</strong></td><td>20.0</td></tr></table>"
      ],
      "text/plain": [
       "Interval({'top': Position({'middle': 0.0, 'upper': 0.0, 'lower': 0.0, 'units': 'm'}), 'base': Position({'middle': 20.0, 'units': 'm'}), 'description': '', 'data': {'lithology': 's'}, 'components': []})"
      ]
     },
     "execution_count": 18,
     "metadata": {},
     "output_type": "execute_result"
    }
   ],
   "source": [
    "strip[0] # quick test"
   ]
  },
  {
   "cell_type": "markdown",
   "metadata": {},
   "source": [
    "## Deal with lithology\n",
    "\n",
    "The lithology has been turned into a component, but it's using the abbreviation... I can't figure out an elegant way to deal with this so, for now, we'll just loop over the striplog and fix it. We read the `data` item's lithology (`'s'` in the top layer), then look up the correct lithology name in our abbreviation dictionary, then add the new component in the proper place. Finally, we delete the `data` we had."
   ]
  },
  {
   "cell_type": "code",
   "execution_count": 19,
   "metadata": {},
   "outputs": [
    {
     "data": {
      "text/plain": [
       "{}"
      ]
     },
     "execution_count": 19,
     "metadata": {},
     "output_type": "execute_result"
    }
   ],
   "source": [
    "s.data"
   ]
  },
  {
   "cell_type": "code",
   "execution_count": 20,
   "metadata": {},
   "outputs": [],
   "source": [
    "for s in strip:\n",
    "    lith = s.data['lithology']\n",
    "    s.components = [facies[lith]]\n",
    "    s.data = {}"
   ]
  },
  {
   "cell_type": "code",
   "execution_count": 21,
   "metadata": {},
   "outputs": [
    {
     "data": {
      "text/html": [
       "<table><tr><td style=\"width:2em; background-color:#DDDDDD\" rowspan=\"6\"></td><td><strong>top</strong></td><td>0.0</td></tr><tr><td><strong>primary</strong></td><td><table><tr><td><strong>lithology</strong></td><td>sandstone</td></tr><tr><td><strong>train</strong></td><td>y</td></tr></table></td></tr><tr><td><strong>summary</strong></td><td>20.00 m of sandstone, y</td></tr><tr><td><strong>description</strong></td><td></td></tr><tr><td><strong>data</strong></td><td><table></table></td></tr><tr><td><strong>base</strong></td><td>20.0</td></tr></table>"
      ],
      "text/plain": [
       "Interval({'top': Position({'middle': 0.0, 'upper': 0.0, 'lower': 0.0, 'units': 'm'}), 'base': Position({'middle': 20.0, 'units': 'm'}), 'description': '', 'data': {}, 'components': [Component({'lithology': 'sandstone', 'train': 'y'})]})"
      ]
     },
     "execution_count": 21,
     "metadata": {},
     "output_type": "execute_result"
    }
   ],
   "source": [
    "strip[0]"
   ]
  },
  {
   "cell_type": "markdown",
   "metadata": {},
   "source": [
    "That's better!"
   ]
  },
  {
   "cell_type": "code",
   "execution_count": 22,
   "metadata": {
    "scrolled": true
   },
   "outputs": [
    {
     "data": {
      "image/png": "[encoded data removed]",
      "text/plain": [
       "<Figure size 108x1080 with 1 Axes>"
      ]
     },
     "metadata": {},
     "output_type": "display_data"
    }
   ],
   "source": [
    "strip.plot(legend)\n"
   ]
  },
  {
   "cell_type": "markdown",
   "metadata": {},
   "source": [
    "## Remove non-training layers"
   ]
  },
  {
   "cell_type": "code",
   "execution_count": null,
   "metadata": {},
   "outputs": [],
   "source": [
    "strip"
   ]
  },
  {
   "cell_type": "code",
   "execution_count": null,
   "metadata": {},
   "outputs": [],
   "source": [
    "strip_train = Striplog([s for s in strip if s.primary['train'] == 'y'])"
   ]
  },
  {
   "cell_type": "code",
   "execution_count": null,
   "metadata": {},
   "outputs": [],
   "source": [
    "strip_train\n",
    "\n",
    "strip_train.plot(legend)"
   ]
  },
  {
   "cell_type": "code",
   "execution_count": null,
   "metadata": {},
   "outputs": [],
   "source": [
    "# plottin' & exportin'\n",
    "\n",
    "fig, (ax0, ax1) = plt.subplots(1, 2, sharey=True)\n",
    "fig.set_size_inches(7, 11) # Set the figure size\n",
    "\n",
    "ax0 = strip.plot(legend, ax=ax0)\n",
    "ax1 = strip_train.plot(legend, ax=ax1)\n",
    "\n",
    "ax0.set_title('Picks')\n",
    "ax1.set_title('Training')\n",
    "\n",
    "ax0.set_ylabel('Depth (m)', size=16)\n",
    "\n",
    "plt.show()\n",
    "fig.savefig('Picks_v_training.pdf', dpi=300)"
   ]
  },
  {
   "cell_type": "code",
   "execution_count": null,
   "metadata": {},
   "outputs": [],
   "source": [
    "print(strip.to_csv())"
   ]
  },
  {
   "cell_type": "code",
   "execution_count": null,
   "metadata": {},
   "outputs": [],
   "source": []
  }
 ],
 "metadata": {
  "kernelspec": {
   "display_name": "Python [conda env:wells]",
   "language": "python",
   "name": "conda-env-wells-py"
  },
  "language_info": {
   "codemirror_mode": {
    "name": "ipython",
    "version": 3
   },
   "file_extension": ".py",
   "mimetype": "text/x-python",
   "name": "python",
   "nbconvert_exporter": "python",
   "pygments_lexer": "ipython3",
   "version": "3.6.5"
  }
 },
 "nbformat": 4,
 "nbformat_minor": 2
}
